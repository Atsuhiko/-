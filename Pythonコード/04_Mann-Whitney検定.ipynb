{
 "cells": [
  {
   "cell_type": "markdown",
   "metadata": {},
   "source": [
    "# ノンパラメトリック検定（Mann-Whitney検定）"
   ]
  },
  {
   "cell_type": "code",
   "execution_count": 1,
   "metadata": {},
   "outputs": [],
   "source": [
    "import pandas as pd\n",
    "import numpy as np\n",
    "import scipy as sp\n",
    "import scipy.stats as stats #統計に関するライブラリ\n",
    "import matplotlib.pyplot as plt"
   ]
  },
  {
   "cell_type": "code",
   "execution_count": 2,
   "metadata": {
    "scrolled": true
   },
   "outputs": [
    {
     "data": {
      "text/html": [
       "<div>\n",
       "<style scoped>\n",
       "    .dataframe tbody tr th:only-of-type {\n",
       "        vertical-align: middle;\n",
       "    }\n",
       "\n",
       "    .dataframe tbody tr th {\n",
       "        vertical-align: top;\n",
       "    }\n",
       "\n",
       "    .dataframe thead th {\n",
       "        text-align: right;\n",
       "    }\n",
       "</style>\n",
       "<table border=\"1\" class=\"dataframe\">\n",
       "  <thead>\n",
       "    <tr style=\"text-align: right;\">\n",
       "      <th></th>\n",
       "      <th>A</th>\n",
       "      <th>B</th>\n",
       "    </tr>\n",
       "  </thead>\n",
       "  <tbody>\n",
       "    <tr>\n",
       "      <th>0</th>\n",
       "      <td>1.83</td>\n",
       "      <td>0.88</td>\n",
       "    </tr>\n",
       "    <tr>\n",
       "      <th>1</th>\n",
       "      <td>1.50</td>\n",
       "      <td>0.65</td>\n",
       "    </tr>\n",
       "    <tr>\n",
       "      <th>2</th>\n",
       "      <td>1.62</td>\n",
       "      <td>0.60</td>\n",
       "    </tr>\n",
       "    <tr>\n",
       "      <th>3</th>\n",
       "      <td>4.55</td>\n",
       "      <td>1.05</td>\n",
       "    </tr>\n",
       "    <tr>\n",
       "      <th>4</th>\n",
       "      <td>1.68</td>\n",
       "      <td>1.06</td>\n",
       "    </tr>\n",
       "  </tbody>\n",
       "</table>\n",
       "</div>"
      ],
      "text/plain": [
       "      A     B\n",
       "0  1.83  0.88\n",
       "1  1.50  0.65\n",
       "2  1.62  0.60\n",
       "3  4.55  1.05\n",
       "4  1.68  1.06"
      ]
     },
     "execution_count": 2,
     "metadata": {},
     "output_type": "execute_result"
    }
   ],
   "source": [
    "df = pd.read_csv(\"./data/04.csv\")\n",
    "df.head()"
   ]
  },
  {
   "cell_type": "code",
   "execution_count": 3,
   "metadata": {
    "scrolled": true
   },
   "outputs": [
    {
     "data": {
      "text/html": [
       "<div>\n",
       "<style scoped>\n",
       "    .dataframe tbody tr th:only-of-type {\n",
       "        vertical-align: middle;\n",
       "    }\n",
       "\n",
       "    .dataframe tbody tr th {\n",
       "        vertical-align: top;\n",
       "    }\n",
       "\n",
       "    .dataframe thead th {\n",
       "        text-align: right;\n",
       "    }\n",
       "</style>\n",
       "<table border=\"1\" class=\"dataframe\">\n",
       "  <thead>\n",
       "    <tr style=\"text-align: right;\">\n",
       "      <th></th>\n",
       "      <th>A</th>\n",
       "      <th>B</th>\n",
       "    </tr>\n",
       "  </thead>\n",
       "  <tbody>\n",
       "    <tr>\n",
       "      <th>count</th>\n",
       "      <td>11.000000</td>\n",
       "      <td>9.000000</td>\n",
       "    </tr>\n",
       "    <tr>\n",
       "      <th>mean</th>\n",
       "      <td>2.371818</td>\n",
       "      <td>1.113333</td>\n",
       "    </tr>\n",
       "    <tr>\n",
       "      <th>std</th>\n",
       "      <td>1.304230</td>\n",
       "      <td>0.455357</td>\n",
       "    </tr>\n",
       "    <tr>\n",
       "      <th>min</th>\n",
       "      <td>1.300000</td>\n",
       "      <td>0.600000</td>\n",
       "    </tr>\n",
       "    <tr>\n",
       "      <th>25%</th>\n",
       "      <td>1.585000</td>\n",
       "      <td>0.880000</td>\n",
       "    </tr>\n",
       "    <tr>\n",
       "      <th>50%</th>\n",
       "      <td>1.830000</td>\n",
       "      <td>1.060000</td>\n",
       "    </tr>\n",
       "    <tr>\n",
       "      <th>75%</th>\n",
       "      <td>2.535000</td>\n",
       "      <td>1.290000</td>\n",
       "    </tr>\n",
       "    <tr>\n",
       "      <th>max</th>\n",
       "      <td>5.110000</td>\n",
       "      <td>2.140000</td>\n",
       "    </tr>\n",
       "  </tbody>\n",
       "</table>\n",
       "</div>"
      ],
      "text/plain": [
       "               A         B\n",
       "count  11.000000  9.000000\n",
       "mean    2.371818  1.113333\n",
       "std     1.304230  0.455357\n",
       "min     1.300000  0.600000\n",
       "25%     1.585000  0.880000\n",
       "50%     1.830000  1.060000\n",
       "75%     2.535000  1.290000\n",
       "max     5.110000  2.140000"
      ]
     },
     "execution_count": 3,
     "metadata": {},
     "output_type": "execute_result"
    }
   ],
   "source": [
    "df.describe()"
   ]
  },
  {
   "cell_type": "code",
   "execution_count": 4,
   "metadata": {
    "scrolled": true
   },
   "outputs": [
    {
     "data": {
      "text/plain": [
       "0     1.83\n",
       "1     1.50\n",
       "2     1.62\n",
       "3     4.55\n",
       "4     1.68\n",
       "5     1.88\n",
       "6     1.55\n",
       "7     3.06\n",
       "8     1.30\n",
       "9     2.01\n",
       "10    5.11\n",
       "Name: A, dtype: float64"
      ]
     },
     "execution_count": 4,
     "metadata": {},
     "output_type": "execute_result"
    }
   ],
   "source": [
    "A = df.A\n",
    "A"
   ]
  },
  {
   "cell_type": "code",
   "execution_count": 5,
   "metadata": {},
   "outputs": [
    {
     "data": {
      "text/plain": [
       "0     0.88\n",
       "1     0.65\n",
       "2     0.60\n",
       "3     1.05\n",
       "4     1.06\n",
       "5     1.29\n",
       "6     1.06\n",
       "7     2.14\n",
       "8     1.29\n",
       "9      NaN\n",
       "10     NaN\n",
       "Name: B, dtype: float64"
      ]
     },
     "execution_count": 5,
     "metadata": {},
     "output_type": "execute_result"
    }
   ],
   "source": [
    "df.B"
   ]
  },
  {
   "cell_type": "code",
   "execution_count": 6,
   "metadata": {},
   "outputs": [
    {
     "data": {
      "text/plain": [
       "0    0.88\n",
       "1    0.65\n",
       "2    0.60\n",
       "3    1.05\n",
       "4    1.06\n",
       "5    1.29\n",
       "6    1.06\n",
       "7    2.14\n",
       "8    1.29\n",
       "Name: B, dtype: float64"
      ]
     },
     "execution_count": 6,
     "metadata": {},
     "output_type": "execute_result"
    }
   ],
   "source": [
    "B = df.B.iloc[0:9]\n",
    "B"
   ]
  },
  {
   "cell_type": "markdown",
   "metadata": {},
   "source": [
    "## 正規性検定"
   ]
  },
  {
   "cell_type": "code",
   "execution_count": 7,
   "metadata": {},
   "outputs": [
    {
     "data": {
      "text/plain": [
       "(array([1., 2., 2., 0., 2., 1., 0., 0., 0., 0., 0., 0., 0., 1., 0., 0., 0.,\n",
       "        0., 0., 0., 0., 0., 0., 0., 0., 1., 0., 0., 0., 1.]),\n",
       " array([1.3  , 1.427, 1.554, 1.681, 1.808, 1.935, 2.062, 2.189, 2.316,\n",
       "        2.443, 2.57 , 2.697, 2.824, 2.951, 3.078, 3.205, 3.332, 3.459,\n",
       "        3.586, 3.713, 3.84 , 3.967, 4.094, 4.221, 4.348, 4.475, 4.602,\n",
       "        4.729, 4.856, 4.983, 5.11 ]),\n",
       " <a list of 30 Patch objects>)"
      ]
     },
     "execution_count": 7,
     "metadata": {},
     "output_type": "execute_result"
    },
    {
     "name": "stderr",
     "output_type": "stream",
     "text": [
      "findfont: Font family ['IPAexGothic'] not found. Falling back to DejaVu Sans.\n"
     ]
    },
    {
     "data": {
      "image/png": "[encoded data removed]",
      "text/plain": [
       "<Figure size 432x288 with 1 Axes>"
      ]
     },
     "metadata": {
      "needs_background": "light"
     },
     "output_type": "display_data"
    }
   ],
   "source": [
    "plt.hist(A, bins=30)"
   ]
  },
  {
   "cell_type": "code",
   "execution_count": 8,
   "metadata": {},
   "outputs": [
    {
     "data": {
      "text/plain": [
       "((array([-1.54586084, -1.04486694, -0.7191259 , -0.45648364, -0.2223761 ,\n",
       "          0.        ,  0.2223761 ,  0.45648364,  0.7191259 ,  1.04486694,\n",
       "          1.54586084]),\n",
       "  array([1.3 , 1.5 , 1.55, 1.62, 1.68, 1.83, 1.88, 2.01, 3.06, 4.55, 5.11])),\n",
       " (1.2199217872993453, 2.3718181818181816, 0.8630066038156478))"
      ]
     },
     "execution_count": 8,
     "metadata": {},
     "output_type": "execute_result"
    },
    {
     "name": "stderr",
     "output_type": "stream",
     "text": [
      "findfont: Font family ['IPAexGothic'] not found. Falling back to DejaVu Sans.\n"
     ]
    },
    {
     "data": {
      "image/png": "[encoded data removed]",
      "text/plain": [
       "<Figure size 432x288 with 1 Axes>"
      ]
     },
     "metadata": {
      "needs_background": "light"
     },
     "output_type": "display_data"
    }
   ],
   "source": [
    "stats.probplot(A, dist=\"norm\", plot=plt)"
   ]
  },
  {
   "cell_type": "code",
   "execution_count": 9,
   "metadata": {},
   "outputs": [
    {
     "data": {
      "text/plain": [
       "(array([2., 0., 0., 0., 0., 1., 0., 0., 3., 0., 0., 0., 0., 2., 0., 0., 0.,\n",
       "        0., 0., 0., 0., 0., 0., 0., 0., 0., 0., 0., 0., 1.]),\n",
       " array([0.6       , 0.65133333, 0.70266667, 0.754     , 0.80533333,\n",
       "        0.85666667, 0.908     , 0.95933333, 1.01066667, 1.062     ,\n",
       "        1.11333333, 1.16466667, 1.216     , 1.26733333, 1.31866667,\n",
       "        1.37      , 1.42133333, 1.47266667, 1.524     , 1.57533333,\n",
       "        1.62666667, 1.678     , 1.72933333, 1.78066667, 1.832     ,\n",
       "        1.88333333, 1.93466667, 1.986     , 2.03733333, 2.08866667,\n",
       "        2.14      ]),\n",
       " <a list of 30 Patch objects>)"
      ]
     },
     "execution_count": 9,
     "metadata": {},
     "output_type": "execute_result"
    },
    {
     "data": {
      "image/png": "[encoded data removed]",
      "text/plain": [
       "<Figure size 432x288 with 1 Axes>"
      ]
     },
     "metadata": {
      "needs_background": "light"
     },
     "output_type": "display_data"
    }
   ],
   "source": [
    "plt.hist(B, bins=30)"
   ]
  },
  {
   "cell_type": "code",
   "execution_count": 10,
   "metadata": {
    "scrolled": true
   },
   "outputs": [
    {
     "data": {
      "text/plain": [
       "((array([-1.44573845, -0.91666807, -0.56381839, -0.2709378 ,  0.        ,\n",
       "          0.2709378 ,  0.56381839,  0.91666807,  1.44573845]),\n",
       "  array([0.6 , 0.65, 0.88, 1.05, 1.06, 1.06, 1.29, 1.29, 2.14])),\n",
       " (0.45864232111970227, 1.1133333333333335, 0.9178565889937856))"
      ]
     },
     "execution_count": 10,
     "metadata": {},
     "output_type": "execute_result"
    },
    {
     "data": {
      "image/png": "[encoded data removed]",
      "text/plain": [
       "<Figure size 432x288 with 1 Axes>"
      ]
     },
     "metadata": {
      "needs_background": "light"
     },
     "output_type": "display_data"
    }
   ],
   "source": [
    "stats.probplot(B, dist=\"norm\", plot=plt)"
   ]
  },
  {
   "cell_type": "markdown",
   "metadata": {},
   "source": [
    "## 正規性を検定する (シャピロウィルク検定)"
   ]
  },
  {
   "cell_type": "code",
   "execution_count": 11,
   "metadata": {
    "scrolled": true
   },
   "outputs": [
    {
     "data": {
      "text/plain": [
       "(0.7433371543884277, 0.001701830537058413)"
      ]
     },
     "execution_count": 11,
     "metadata": {},
     "output_type": "execute_result"
    }
   ],
   "source": [
    "stats.shapiro(A)"
   ]
  },
  {
   "cell_type": "markdown",
   "metadata": {},
   "source": [
    "Aは正規性が棄却された → 正規分布でない"
   ]
  },
  {
   "cell_type": "code",
   "execution_count": 12,
   "metadata": {},
   "outputs": [
    {
     "data": {
      "text/plain": [
       "(0.8627253770828247, 0.10264518857002258)"
      ]
     },
     "execution_count": 12,
     "metadata": {},
     "output_type": "execute_result"
    }
   ],
   "source": [
    "stats.shapiro(B)"
   ]
  },
  {
   "cell_type": "markdown",
   "metadata": {},
   "source": [
    "Bは正規分布\n",
    "\n",
    "A, B 双方が正規分布ではないので、ノンパラメトリック検定を行う。"
   ]
  },
  {
   "cell_type": "markdown",
   "metadata": {},
   "source": [
    "## F検定"
   ]
  },
  {
   "cell_type": "code",
   "execution_count": 13,
   "metadata": {},
   "outputs": [],
   "source": [
    "def F_test(A, B):\n",
    "    A_var = np.var(A, ddof=1)  # Aの不偏分散\n",
    "    B_var = np.var(B, ddof=1)  # Bの不偏分散\n",
    "    A_df = len(df.A) - 1  # Aの自由度\n",
    "    B_df = len(df.B) - 1  # Bの自由度\n",
    "    f = A_var / B_var  # F比の値\n",
    "    one_sided_pval1 = stats.f.cdf(f, A_df, B_df)  # 片側検定のp値 1\n",
    "    one_sided_pval2 = stats.f.sf(f, A_df, B_df)   # 片側検定のp値 2\n",
    "    two_sided_pval = min(one_sided_pval1, one_sided_pval2) * 2  # 両側検定のp値\n",
    "\n",
    "    print('F-value:       ', round(f, 5))\n",
    "    print('p-value(2 sides): ', round(two_sided_pval, 5))"
   ]
  },
  {
   "cell_type": "code",
   "execution_count": 14,
   "metadata": {},
   "outputs": [
    {
     "name": "stdout",
     "output_type": "stream",
     "text": [
      "F-value:        8.2036\n",
      "p-value(2 sides):  0.00262\n"
     ]
    }
   ],
   "source": [
    "F_test(A, B)"
   ]
  },
  {
   "cell_type": "markdown",
   "metadata": {},
   "source": [
    "F検定で分散に差があることが判明した。"
   ]
  },
  {
   "cell_type": "markdown",
   "metadata": {},
   "source": [
    "## Mann-Whitney検定"
   ]
  },
  {
   "cell_type": "code",
   "execution_count": 18,
   "metadata": {},
   "outputs": [
    {
     "data": {
      "text/plain": [
       "MannwhitneyuResult(statistic=8.0, pvalue=0.0009126805049965518)"
      ]
     },
     "execution_count": 18,
     "metadata": {},
     "output_type": "execute_result"
    }
   ],
   "source": [
    "stats.mannwhitneyu(A, B) # ディフォルトは片側検定"
   ]
  },
  {
   "cell_type": "code",
   "execution_count": 20,
   "metadata": {},
   "outputs": [
    {
     "data": {
      "text/plain": [
       "MannwhitneyuResult(statistic=91.0, pvalue=0.0018253610099931035)"
      ]
     },
     "execution_count": 20,
     "metadata": {},
     "output_type": "execute_result"
    }
   ],
   "source": [
    "stats.mannwhitneyu(A, B, alternative='two-sided') # 両側検定を指定"
   ]
  },
  {
   "cell_type": "markdown",
   "metadata": {},
   "source": [
    "## scipy.stats.mannwhitneyu(x, y, use_continuity=True)\n",
    "Computes the Mann-Whitney rank test on samples x and y.\n",
    "\n",
    "Parameters:\t\n",
    "x, y : array_like\n",
    "\n",
    "Array of samples, should be one-dimensional.\n",
    "\n",
    "use_continuity : bool, optional\n",
    "\n",
    "Whether a continuity correction (1/2.) should be taken into account. Default is True.\n",
    "\n",
    "Returns:\t\n",
    "u : float The Mann-Whitney statistics.\n",
    "\n",
    "prob : float One-sided p-value assuming a asymptotic normal distribution.\n",
    "\n",
    "https://docs.scipy.org/doc/scipy-0.14.0/reference/generated/scipy.stats.ttest_ind.html#scipy.stats.ttest_ind"
   ]
  },
  {
   "cell_type": "markdown",
   "metadata": {},
   "source": [
    "返り値：\n",
    "\n",
    "U値 ： Mann-WhitneyのU値\n",
    "\n",
    "p値（片側検定） ： ２群の点の配置（順序関係）には偏りがないという帰無仮説で検定を行った結果。この値でもって1%や5%の判定をする。"
   ]
  },
  {
   "cell_type": "code",
   "execution_count": null,
   "metadata": {},
   "outputs": [],
   "source": []
  }
 ],
 "metadata": {
  "kernelspec": {
   "display_name": "Python 3",
   "language": "python",
   "name": "python3"
  },
  "language_info": {
   "codemirror_mode": {
    "name": "ipython",
    "version": 3
   },
   "file_extension": ".py",
   "mimetype": "text/x-python",
   "name": "python",
   "nbconvert_exporter": "python",
   "pygments_lexer": "ipython3",
   "version": "3.7.6"
  }
 },
 "nbformat": 4,
 "nbformat_minor": 4
}
